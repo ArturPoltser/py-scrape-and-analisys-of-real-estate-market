{
 "cells": [
  {
   "cell_type": "code",
   "execution_count": 67,
   "id": "initial_id",
   "metadata": {
    "collapsed": true,
    "ExecuteTime": {
     "end_time": "2024-05-01T12:07:37.554588400Z",
     "start_time": "2024-05-01T12:07:37.525319300Z"
    }
   },
   "outputs": [],
   "source": [
    "import pandas as pd\n",
    "from matplotlib import pyplot as plt"
   ]
  },
  {
   "cell_type": "markdown",
   "source": [],
   "metadata": {
    "collapsed": false
   },
   "id": "947444a4a6792946"
  },
  {
   "cell_type": "markdown",
   "source": [
    "# Data preparation\n",
    "Extracting and Cleaning Data"
   ],
   "metadata": {
    "collapsed": false
   },
   "id": "3d49b7334feea9e2"
  },
  {
   "cell_type": "code",
   "outputs": [
    {
     "data": {
      "text/plain": "                        address      type  area     price  number_of_rooms  \\\n0  ЖК Millennium Eco Apartments  Квартира  57.0   51700.0              2.0   \n1             вул. Незалежності  Квартира  69.2   83000.0              2.0   \n3                 вул. Княгинин  Квартира  42.0   36000.0              1.0   \n4             вул. Мазепи, 175а  Квартира  42.0   31100.0              1.0   \n5               вул. Мельничука  Квартира  98.0  112600.0              3.0   \n\n    renovation  \n0  без ремонту  \n1   з ремонтом  \n3  без ремонту  \n4  без ремонту  \n5   з ремонтом  ",
      "text/html": "<div>\n<style scoped>\n    .dataframe tbody tr th:only-of-type {\n        vertical-align: middle;\n    }\n\n    .dataframe tbody tr th {\n        vertical-align: top;\n    }\n\n    .dataframe thead th {\n        text-align: right;\n    }\n</style>\n<table border=\"1\" class=\"dataframe\">\n  <thead>\n    <tr style=\"text-align: right;\">\n      <th></th>\n      <th>address</th>\n      <th>type</th>\n      <th>area</th>\n      <th>price</th>\n      <th>number_of_rooms</th>\n      <th>renovation</th>\n    </tr>\n  </thead>\n  <tbody>\n    <tr>\n      <th>0</th>\n      <td>ЖК Millennium Eco Apartments</td>\n      <td>Квартира</td>\n      <td>57.0</td>\n      <td>51700.0</td>\n      <td>2.0</td>\n      <td>без ремонту</td>\n    </tr>\n    <tr>\n      <th>1</th>\n      <td>вул. Незалежності</td>\n      <td>Квартира</td>\n      <td>69.2</td>\n      <td>83000.0</td>\n      <td>2.0</td>\n      <td>з ремонтом</td>\n    </tr>\n    <tr>\n      <th>3</th>\n      <td>вул. Княгинин</td>\n      <td>Квартира</td>\n      <td>42.0</td>\n      <td>36000.0</td>\n      <td>1.0</td>\n      <td>без ремонту</td>\n    </tr>\n    <tr>\n      <th>4</th>\n      <td>вул. Мазепи, 175а</td>\n      <td>Квартира</td>\n      <td>42.0</td>\n      <td>31100.0</td>\n      <td>1.0</td>\n      <td>без ремонту</td>\n    </tr>\n    <tr>\n      <th>5</th>\n      <td>вул. Мельничука</td>\n      <td>Квартира</td>\n      <td>98.0</td>\n      <td>112600.0</td>\n      <td>3.0</td>\n      <td>з ремонтом</td>\n    </tr>\n  </tbody>\n</table>\n</div>"
     },
     "execution_count": 70,
     "metadata": {},
     "output_type": "execute_result"
    }
   ],
   "source": [
    "df = pd.read_csv(\"../real_estate.csv\") # extract data from csv file and writing to DataFrame object\n",
    "df.dropna(inplace=True) # delete rows with NaN values\n",
    "df.head()"
   ],
   "metadata": {
    "collapsed": false,
    "ExecuteTime": {
     "end_time": "2024-05-01T12:08:08.238409600Z",
     "start_time": "2024-05-01T12:08:08.185813400Z"
    }
   },
   "id": "48c671fe30773bea",
   "execution_count": 70
  },
  {
   "cell_type": "markdown",
   "source": [
    "# Get average TotalPrice & Price for m^2 "
   ],
   "metadata": {
    "collapsed": false
   },
   "id": "a0569f25c93a6130"
  },
  {
   "cell_type": "code",
   "outputs": [
    {
     "name": "stdout",
     "output_type": "stream",
     "text": [
      "Average TotalPrice: 59746.64$\n",
      "Average Price per m^2: 976.21$\n"
     ]
    }
   ],
   "source": [
    "df[\"price_for_m^2\"] = df[\"price\"] / df[\"area\"] # creating new column \"price_for_m^2\"\n",
    "print(f\"Average TotalPrice: {round(df['price'].mean(), 2)}$\\n\"\n",
    "      f\"Average Price per m^2: {round(df['price_for_m^2'].mean(), 2)}$\")"
   ],
   "metadata": {
    "collapsed": false,
    "ExecuteTime": {
     "end_time": "2024-05-01T11:57:12.997641100Z",
     "start_time": "2024-05-01T11:57:12.988394400Z"
    }
   },
   "id": "b2306e8a25431eff",
   "execution_count": 65
  },
  {
   "cell_type": "markdown",
   "source": [
    "# Get average prices that depend on renovation"
   ],
   "metadata": {
    "collapsed": false
   },
   "id": "63597bfba81378bf"
  },
  {
   "cell_type": "code",
   "outputs": [
    {
     "name": "stdout",
     "output_type": "stream",
     "text": [
      "Average prices for apartment with renovation:\n",
      "    TotalPrice: 71276.1$\n",
      "    Price per m^2: 1158.74$\n",
      "\n",
      "Average prices for apartment without renovation:\n",
      "    TotalPrice: 49222.97$\n",
      "    Price per m^2: 809.61$\n",
      "\n",
      "Conclusion: Therefore, on average, price for apartments with renovation is \n",
      "approximately 44.8% higher than apartments without renovation\n"
     ]
    }
   ],
   "source": [
    "with_renovation = df[df[\"renovation\"] == \"з ремонтом\"]\n",
    "without_renovation = df[df[\"renovation\"] == \"без ремонту\"]\n",
    "\n",
    "price_with_renovation = round(with_renovation[\"price\"].mean(), 2)\n",
    "price_per_m2_with_renovation = round(with_renovation[\"price_for_m^2\"].mean(), 2)\n",
    "\n",
    "price_without_renovation = round(without_renovation[\"price\"].mean(), 2)\n",
    "price_per_m2_without_renovation = round(without_renovation[\"price_for_m^2\"].mean(), 2)\n",
    "\n",
    "percentage_of_difference = round((\n",
    "        (price_with_renovation - price_without_renovation) / price_without_renovation * 100\n",
    "), 1)\n",
    "\n",
    "print(\"Average prices for apartment with renovation:\\n\"\n",
    "      f\"    TotalPrice: {price_with_renovation}$\\n\"\n",
    "      f\"    Price per m^2: {price_per_m2_with_renovation}$\\n\\n\"\n",
    "      \"Average prices for apartment without renovation:\\n\"\n",
    "      f\"    TotalPrice: {price_without_renovation}$\\n\"\n",
    "      f\"    Price per m^2: {price_per_m2_without_renovation}$\\n\\n\"\n",
    "      \"Conclusion: Therefore, on average, price for apartments with renovation is \\n\"\n",
    "      f\"approximately {percentage_of_difference}% higher than apartments without renovation\")"
   ],
   "metadata": {
    "collapsed": false,
    "ExecuteTime": {
     "end_time": "2024-05-01T11:56:58.418568300Z",
     "start_time": "2024-05-01T11:56:58.414474700Z"
    }
   },
   "id": "ade8557bc74bcd3a",
   "execution_count": 64
  },
  {
   "cell_type": "markdown",
   "source": [
    "# Get average prices that depend on number of rooms"
   ],
   "metadata": {
    "collapsed": false
   },
   "id": "65f487dd756bab57"
  },
  {
   "cell_type": "code",
   "outputs": [
    {
     "name": "stdout",
     "output_type": "stream",
     "text": [
      "Average price by number of rooms:\n",
      "    Number of rooms: 1, Average price: 43946$\n",
      "    Number of rooms: 2, Average price: 61050$\n",
      "    Number of rooms: 3, Average price: 79393$\n",
      "    Number of rooms: 4, Average price: 112327$\n",
      "    Number of rooms: 5, Average price: 115700$\n",
      "    Number of rooms: 6, Average price: 128400$\n"
     ]
    }
   ],
   "source": [
    "price = df.groupby(\"number_of_rooms\")[\"price\"].mean()\n",
    "print(\"Average price by number of rooms:\")\n",
    "for num_rooms, avg_price in price.items():\n",
    "    print(f\"    Number of rooms: {int(num_rooms)}, Average price: {int(avg_price)}$\")\n"
   ],
   "metadata": {
    "collapsed": false,
    "ExecuteTime": {
     "end_time": "2024-05-01T11:56:43.487432600Z",
     "start_time": "2024-05-01T11:56:43.454661900Z"
    }
   },
   "id": "bf3765f15b95978a",
   "execution_count": 63
  },
  {
   "cell_type": "markdown",
   "source": [
    "# The median price of apartments"
   ],
   "metadata": {
    "collapsed": false
   },
   "id": "4a6d3e8625855990"
  },
  {
   "cell_type": "code",
   "outputs": [
    {
     "name": "stdout",
     "output_type": "stream",
     "text": [
      "Median price of apartments:\n",
      "    in general: 53500.0$\n",
      "    with renovation: 65000.0$\n",
      "    without renovation: 43500.0$\n"
     ]
    }
   ],
   "source": [
    "general_median_price = df[\"price\"].median()\n",
    "\n",
    "median_price_with_renovation = with_renovation[\"price\"].median()\n",
    "median_price_without_renovation = without_renovation[\"price\"].median()\n",
    "\n",
    "print(\"Median price of apartments:\\n\"\n",
    "      f\"    in general: {general_median_price}$\\n\"\n",
    "      f\"    with renovation: {median_price_with_renovation}$\\n\"\n",
    "      f\"    without renovation: {median_price_without_renovation}$\\n\")"
   ],
   "metadata": {
    "collapsed": false,
    "ExecuteTime": {
     "end_time": "2024-05-01T11:57:41.581343500Z",
     "start_time": "2024-05-01T11:57:41.575211200Z"
    }
   },
   "id": "837d64f28e448252",
   "execution_count": 66
  },
  {
   "cell_type": "markdown",
   "source": [
    "# Distribution of prices by number of rooms"
   ],
   "metadata": {
    "collapsed": false
   },
   "id": "6914b7affb9a076"
  },
  {
   "cell_type": "code",
   "outputs": [
    {
     "data": {
      "text/plain": "<Figure size 1000x600 with 1 Axes>",
      "image/png": "[encoded data removed]"
     },
     "metadata": {},
     "output_type": "display_data"
    }
   ],
   "source": [
    "number_of_rooms = df.groupby(\"number_of_rooms\")[\"price\"].sum()\n",
    "\n",
    "plt.figure(figsize=(10, 6))\n",
    "plt.bar(number_of_rooms.index, number_of_rooms.values, color=\"green\")\n",
    "plt.xlabel(\"Number of rooms\")\n",
    "plt.ylabel(\"Distribution of prices\")\n",
    "plt.title(\"Distribution of prices by number of rooms\")\n",
    "plt.show()"
   ],
   "metadata": {
    "collapsed": false,
    "ExecuteTime": {
     "end_time": "2024-05-01T11:43:45.457671600Z",
     "start_time": "2024-05-01T11:43:45.197557800Z"
    }
   },
   "id": "e6ace593f88f2b74",
   "execution_count": 50
  },
  {
   "cell_type": "markdown",
   "source": [
    "\n",
    "In conclusion, based on the bar plot, we can infer that the most preferred option for both ceiling and purchase is apartments with two rooms."
   ],
   "metadata": {
    "collapsed": false
   },
   "id": "dd4267578a67d944"
  }
 ],
 "metadata": {
  "kernelspec": {
   "display_name": "Python 3",
   "language": "python",
   "name": "python3"
  },
  "language_info": {
   "codemirror_mode": {
    "name": "ipython",
    "version": 2
   },
   "file_extension": ".py",
   "mimetype": "text/x-python",
   "name": "python",
   "nbconvert_exporter": "python",
   "pygments_lexer": "ipython2",
   "version": "2.7.6"
  }
 },
 "nbformat": 4,
 "nbformat_minor": 5
}
